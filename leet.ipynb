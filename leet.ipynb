{
 "cells": [
  {
   "cell_type": "markdown",
   "id": "61a83120",
   "metadata": {},
   "source": [
    "# Leet Code Study Notebook"
   ]
  },
  {
   "cell_type": "markdown",
   "id": "7f8de588",
   "metadata": {
    "vscode": {
     "languageId": "plaintext"
    }
   },
   "source": [
    "3005. Count Elements With Maximum Frequency **Easy**\n",
    "You are given an array nums consisting of positive integers.\n",
    "\n",
    "Return the total frequencies of elements in nums such that those elements all have the maximum frequency.\n",
    "\n",
    "The frequency of an element is the number of occurrences of that element in the array.\n",
    "\n",
    " \n",
    "\n",
    "Example 1:\n",
    "```\n",
    "Input: nums = [1,2,2,3,1,4]\n",
    "Output: 4\n",
    "Explanation: The elements 1 and 2 have a frequency of 2 which is the maximum frequency in the array.\n",
    "So the number of elements in the array with maximum frequency is 4.\n",
    "```"
   ]
  },
  {
   "cell_type": "markdown",
   "id": "60cb2830",
   "metadata": {},
   "source": [
    "we need a dictionary that counts the frequency of each number as it iterates over the list\n",
    "{\n",
    "    1:2\n",
    "    2:2\n",
    "    3:1\n",
    "    4:1\n",
    "}"
   ]
  },
  {
   "cell_type": "code",
   "execution_count": null,
   "id": "e60f7686",
   "metadata": {},
   "outputs": [
    {
     "name": "stdout",
     "output_type": "stream",
     "text": [
      "{1: 2, 2: 2, 3: 1, 4: 1}\n"
     ]
    }
   ],
   "source": [
    "nums = [1, 2, 2, 3, 1, 4]\n",
    "\n",
    "def max_freq(nums):\n",
    "    freq = {}\n",
    "    for num in nums:\n",
    "        if num in freq:\n",
    "            freq[num] += 1\n",
    "        else:\n",
    "            freq[num] = 1\n",
    "            \n",
    "    \n",
    "    print(freq)\n",
    "    \n",
    "max_freq(nums)"
   ]
  }
 ],
 "metadata": {
  "kernelspec": {
   "display_name": "base",
   "language": "python",
   "name": "python3"
  },
  "language_info": {
   "codemirror_mode": {
    "name": "ipython",
    "version": 3
   },
   "file_extension": ".py",
   "mimetype": "text/x-python",
   "name": "python",
   "nbconvert_exporter": "python",
   "pygments_lexer": "ipython3",
   "version": "3.9.12"
  }
 },
 "nbformat": 4,
 "nbformat_minor": 5
}
