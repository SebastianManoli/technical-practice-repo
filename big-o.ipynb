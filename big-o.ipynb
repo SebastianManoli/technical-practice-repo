{
 "cells": [
  {
   "cell_type": "code",
   "execution_count": null,
   "id": "dce73a30",
   "metadata": {},
   "outputs": [],
   "source": [
    "# Big O Notation\n",
    "def example_function(n):\n",
    "    # O(1) - Constant time complexity\n",
    "    print(\"This operation takes constant time.\")\n",
    "\n",
    "    # O(n) - Linear time complexity\n",
    "    for i in range(n):\n",
    "        print(i)\n",
    "\n",
    "    # O(n^2) - Quadratic time complexity\n",
    "    for i in range(n):\n",
    "        for j in range(n):\n",
    "            print(i, j)"
   ]
  },
  {
   "cell_type": "code",
   "execution_count": null,
   "id": "7ed56d46",
   "metadata": {},
   "outputs": [],
   "source": [
    "# O(n^3)\n",
    "def cube(n):\n",
    "    for i in range(0, n):\n",
    "        for j in range(0, n):\n",
    "            for k in range(0, n):\n",
    "               print(i, j, k)\n",
    "               \n",
    "cube(2)"
   ]
  },
  {
   "cell_type": "code",
   "execution_count": null,
   "id": "1648dac7",
   "metadata": {},
   "outputs": [],
   "source": [
    "# O(log n)\n",
    "def log_function(n):\n",
    "    if (n == 0) : return \"done\"\n",
    "    n = n // 2\n",
    "    print(n)\n",
    "    return log_function(n)"
   ]
  },
  {
   "cell_type": "code",
   "execution_count": null,
   "id": "812ad505",
   "metadata": {},
   "outputs": [],
   "source": [
    "log_function(8)"
   ]
  },
  {
   "cell_type": "markdown",
   "id": "bc446445",
   "metadata": {},
   "source": [
    "#### binary search algorithm O(log n)"
   ]
  },
  {
   "cell_type": "code",
   "execution_count": 1,
   "id": "5ae8a8fb",
   "metadata": {},
   "outputs": [
    {
     "name": "stdout",
     "output_type": "stream",
     "text": [
      "[1, 2, 7, 12, 34, 45, 55, 100, 134]\n",
      "[45, 55, 100, 134]\n",
      "[100, 134]\n",
      "[134]\n"
     ]
    },
    {
     "data": {
      "text/plain": [
       "('found you', 134)"
      ]
     },
     "execution_count": 1,
     "metadata": {},
     "output_type": "execute_result"
    }
   ],
   "source": [
    "array = [1, 2, 7, 12, 34, 45, 55, 100, 134]\n",
    "start = 0\n",
    "end = len(array) - 1\n",
    "target = 134\n",
    "\n",
    "def binary_search(array, start, end, target):\n",
    "    mididx = (start + end) // 2 # o(1)\n",
    "    \n",
    "    print(array[start:end+1]) # O(1)\n",
    "    \n",
    "    if array[mididx] == target: return \"found you\", array[mididx]\n",
    "\n",
    "    if array[mididx] > target: \n",
    "        return binary_search(array, start, mididx-1, target)\n",
    "    else:\n",
    "        return binary_search(array, mididx+1, end, target)\n",
    "    \n",
    "binary_search(array, start, end, target)\n",
    "    "
   ]
  },
  {
   "cell_type": "code",
   "execution_count": null,
   "id": "1660afc5",
   "metadata": {},
   "outputs": [],
   "source": []
  }
 ],
 "metadata": {
  "kernelspec": {
   "display_name": "base",
   "language": "python",
   "name": "python3"
  },
  "language_info": {
   "codemirror_mode": {
    "name": "ipython",
    "version": 3
   },
   "file_extension": ".py",
   "mimetype": "text/x-python",
   "name": "python",
   "nbconvert_exporter": "python",
   "pygments_lexer": "ipython3",
   "version": "3.9.12"
  }
 },
 "nbformat": 4,
 "nbformat_minor": 5
}
